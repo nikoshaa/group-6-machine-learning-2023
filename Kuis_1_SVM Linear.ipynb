{
  "nbformat": 4,
  "nbformat_minor": 0,
  "metadata": {
    "colab": {
      "provenance": []
    },
    "kernelspec": {
      "name": "python3",
      "display_name": "Python 3"
    },
    "language_info": {
      "name": "python"
    }
  },
  "cells": [
    {
      "cell_type": "markdown",
      "source": [
        "# Linear"
      ],
      "metadata": {
        "id": "-9DmLhDxwI82"
      }
    },
    {
      "cell_type": "markdown",
      "source": [
        "## Import liblary"
      ],
      "metadata": {
        "id": "Ls2p7NKHwSmc"
      }
    },
    {
      "cell_type": "code",
      "execution_count": 97,
      "metadata": {
        "id": "gJWjKHb-SYHt"
      },
      "outputs": [],
      "source": [
        "import numpy as np\n",
        "import matplotlib.pyplot as plt\n",
        "from sklearn.datasets import fetch_openml\n",
        "import pandas as pd"
      ]
    },
    {
      "cell_type": "markdown",
      "source": [
        "## Mengunduh Dataset"
      ],
      "metadata": {
        "id": "ED6RQi52wYE3"
      }
    },
    {
      "cell_type": "code",
      "source": [
        "# Mengunduh dataset MNIST\n",
        "mnist = fetch_openml('mnist_784', version=1)"
      ],
      "metadata": {
        "colab": {
          "base_uri": "https://localhost:8080/"
        },
        "id": "vsVgbdb-SauW",
        "outputId": "324feef1-9ba1-41e8-89dc-8600deb64d65"
      },
      "execution_count": 98,
      "outputs": [
        {
          "output_type": "stream",
          "name": "stderr",
          "text": [
            "/usr/local/lib/python3.10/dist-packages/sklearn/datasets/_openml.py:968: FutureWarning: The default value of `parser` will change from `'liac-arff'` to `'auto'` in 1.4. You can set `parser='auto'` to silence this warning. Therefore, an `ImportError` will be raised from 1.4 if the dataset is dense and pandas is not installed. Note that the pandas parser may return different data types. See the Notes Section in fetch_openml's API doc for details.\n",
            "  warn(\n"
          ]
        }
      ]
    },
    {
      "cell_type": "markdown",
      "source": [
        "## Mengambil Data dan Target"
      ],
      "metadata": {
        "id": "6lwpk7pWwc6n"
      }
    },
    {
      "cell_type": "code",
      "source": [
        "# Mengambil data dan target dari dataset MNIST\n",
        "X = mnist['data'].to_numpy()\n",
        "y = mnist['target'].astype(int)"
      ],
      "metadata": {
        "id": "4FGLrLHnTQWz"
      },
      "execution_count": 99,
      "outputs": []
    },
    {
      "cell_type": "markdown",
      "source": [
        "## Standarisasi"
      ],
      "metadata": {
        "id": "kR1bVY30wjcV"
      }
    },
    {
      "cell_type": "code",
      "source": [
        "from sklearn.preprocessing import StandardScaler"
      ],
      "metadata": {
        "id": "fr-PccB0TeNN"
      },
      "execution_count": 100,
      "outputs": []
    },
    {
      "cell_type": "code",
      "source": [
        "# Membuat objek standarisasi\n",
        "scaler = StandardScaler()\n",
        "\n",
        "X = scaler.fit_transform(X)"
      ],
      "metadata": {
        "id": "a49NGIZeTx0b"
      },
      "execution_count": 101,
      "outputs": []
    },
    {
      "cell_type": "markdown",
      "source": [
        "# Pembagian 70: 30"
      ],
      "metadata": {
        "id": "kuVn7wp41V0B"
      }
    },
    {
      "cell_type": "markdown",
      "source": [
        "## Membagi Data"
      ],
      "metadata": {
        "id": "uNolVNyewoBZ"
      }
    },
    {
      "cell_type": "code",
      "source": [
        "from sklearn.model_selection import train_test_split"
      ],
      "metadata": {
        "id": "NBV_ki6qU3Mo"
      },
      "execution_count": 102,
      "outputs": []
    },
    {
      "cell_type": "code",
      "source": [
        "# Bagi data menjadi 70% data pelatihan dan 30% data pengujian\n",
        "\n",
        "X_train, X_test, y_train, y_test = train_test_split(X, y, test_size=0.3)"
      ],
      "metadata": {
        "id": "RKuv6ri4TydY"
      },
      "execution_count": 103,
      "outputs": []
    },
    {
      "cell_type": "markdown",
      "source": [
        "## PCA"
      ],
      "metadata": {
        "id": "5m-ww5nQwren"
      }
    },
    {
      "cell_type": "code",
      "source": [
        "from sklearn.decomposition import PCA\n",
        "\n",
        "# Membuat objek PCA\n",
        "pca = PCA(n_components=10)\n",
        "\n",
        "# Fit the PCA object to the training data\n",
        "pca.fit(X_train)\n",
        "\n",
        "# Melakukan transformasi PCA pada data pelatihan dan pengujian\n",
        "X_train_transformed = pca.transform(X_train)\n",
        "X_test_transformed = pca.transform(X_test)"
      ],
      "metadata": {
        "id": "rLMSY_yfUu8t"
      },
      "execution_count": 104,
      "outputs": []
    },
    {
      "cell_type": "markdown",
      "source": [
        "## Membuat Model SVM Kernel Linear"
      ],
      "metadata": {
        "id": "lNuZEtw8w2TO"
      }
    },
    {
      "cell_type": "code",
      "source": [
        "\n",
        "# Membuat model SVM\n",
        "from sklearn.svm import SVC"
      ],
      "metadata": {
        "id": "qimqOuCfnyQE"
      },
      "execution_count": 105,
      "outputs": []
    },
    {
      "cell_type": "code",
      "source": [
        "# Membuat model SVM dengan kernel linear\n",
        "linear = SVC(kernel='linear', C=5)"
      ],
      "metadata": {
        "id": "48ZkrIc1VELp"
      },
      "execution_count": 106,
      "outputs": []
    },
    {
      "cell_type": "markdown",
      "source": [
        "## Melatih Model"
      ],
      "metadata": {
        "id": "R0GnbkqaxHWB"
      }
    },
    {
      "cell_type": "code",
      "source": [
        "# Melatih model SVM pada data pelatihan yang telah ditransformasi\n",
        "linear.fit(X_train_transformed, y_train)"
      ],
      "metadata": {
        "colab": {
          "base_uri": "https://localhost:8080/",
          "height": 74
        },
        "id": "9z_jcpRwVFRI",
        "outputId": "78b94495-85ad-4168-e240-ae3a3ac39e7e"
      },
      "execution_count": 107,
      "outputs": [
        {
          "output_type": "execute_result",
          "data": {
            "text/plain": [
              "SVC(C=5, kernel='linear')"
            ],
            "text/html": [
              "<style>#sk-container-id-5 {color: black;background-color: white;}#sk-container-id-5 pre{padding: 0;}#sk-container-id-5 div.sk-toggleable {background-color: white;}#sk-container-id-5 label.sk-toggleable__label {cursor: pointer;display: block;width: 100%;margin-bottom: 0;padding: 0.3em;box-sizing: border-box;text-align: center;}#sk-container-id-5 label.sk-toggleable__label-arrow:before {content: \"▸\";float: left;margin-right: 0.25em;color: #696969;}#sk-container-id-5 label.sk-toggleable__label-arrow:hover:before {color: black;}#sk-container-id-5 div.sk-estimator:hover label.sk-toggleable__label-arrow:before {color: black;}#sk-container-id-5 div.sk-toggleable__content {max-height: 0;max-width: 0;overflow: hidden;text-align: left;background-color: #f0f8ff;}#sk-container-id-5 div.sk-toggleable__content pre {margin: 0.2em;color: black;border-radius: 0.25em;background-color: #f0f8ff;}#sk-container-id-5 input.sk-toggleable__control:checked~div.sk-toggleable__content {max-height: 200px;max-width: 100%;overflow: auto;}#sk-container-id-5 input.sk-toggleable__control:checked~label.sk-toggleable__label-arrow:before {content: \"▾\";}#sk-container-id-5 div.sk-estimator input.sk-toggleable__control:checked~label.sk-toggleable__label {background-color: #d4ebff;}#sk-container-id-5 div.sk-label input.sk-toggleable__control:checked~label.sk-toggleable__label {background-color: #d4ebff;}#sk-container-id-5 input.sk-hidden--visually {border: 0;clip: rect(1px 1px 1px 1px);clip: rect(1px, 1px, 1px, 1px);height: 1px;margin: -1px;overflow: hidden;padding: 0;position: absolute;width: 1px;}#sk-container-id-5 div.sk-estimator {font-family: monospace;background-color: #f0f8ff;border: 1px dotted black;border-radius: 0.25em;box-sizing: border-box;margin-bottom: 0.5em;}#sk-container-id-5 div.sk-estimator:hover {background-color: #d4ebff;}#sk-container-id-5 div.sk-parallel-item::after {content: \"\";width: 100%;border-bottom: 1px solid gray;flex-grow: 1;}#sk-container-id-5 div.sk-label:hover label.sk-toggleable__label {background-color: #d4ebff;}#sk-container-id-5 div.sk-serial::before {content: \"\";position: absolute;border-left: 1px solid gray;box-sizing: border-box;top: 0;bottom: 0;left: 50%;z-index: 0;}#sk-container-id-5 div.sk-serial {display: flex;flex-direction: column;align-items: center;background-color: white;padding-right: 0.2em;padding-left: 0.2em;position: relative;}#sk-container-id-5 div.sk-item {position: relative;z-index: 1;}#sk-container-id-5 div.sk-parallel {display: flex;align-items: stretch;justify-content: center;background-color: white;position: relative;}#sk-container-id-5 div.sk-item::before, #sk-container-id-5 div.sk-parallel-item::before {content: \"\";position: absolute;border-left: 1px solid gray;box-sizing: border-box;top: 0;bottom: 0;left: 50%;z-index: -1;}#sk-container-id-5 div.sk-parallel-item {display: flex;flex-direction: column;z-index: 1;position: relative;background-color: white;}#sk-container-id-5 div.sk-parallel-item:first-child::after {align-self: flex-end;width: 50%;}#sk-container-id-5 div.sk-parallel-item:last-child::after {align-self: flex-start;width: 50%;}#sk-container-id-5 div.sk-parallel-item:only-child::after {width: 0;}#sk-container-id-5 div.sk-dashed-wrapped {border: 1px dashed gray;margin: 0 0.4em 0.5em 0.4em;box-sizing: border-box;padding-bottom: 0.4em;background-color: white;}#sk-container-id-5 div.sk-label label {font-family: monospace;font-weight: bold;display: inline-block;line-height: 1.2em;}#sk-container-id-5 div.sk-label-container {text-align: center;}#sk-container-id-5 div.sk-container {/* jupyter's `normalize.less` sets `[hidden] { display: none; }` but bootstrap.min.css set `[hidden] { display: none !important; }` so we also need the `!important` here to be able to override the default hidden behavior on the sphinx rendered scikit-learn.org. See: https://github.com/scikit-learn/scikit-learn/issues/21755 */display: inline-block !important;position: relative;}#sk-container-id-5 div.sk-text-repr-fallback {display: none;}</style><div id=\"sk-container-id-5\" class=\"sk-top-container\"><div class=\"sk-text-repr-fallback\"><pre>SVC(C=5, kernel=&#x27;linear&#x27;)</pre><b>In a Jupyter environment, please rerun this cell to show the HTML representation or trust the notebook. <br />On GitHub, the HTML representation is unable to render, please try loading this page with nbviewer.org.</b></div><div class=\"sk-container\" hidden><div class=\"sk-item\"><div class=\"sk-estimator sk-toggleable\"><input class=\"sk-toggleable__control sk-hidden--visually\" id=\"sk-estimator-id-5\" type=\"checkbox\" checked><label for=\"sk-estimator-id-5\" class=\"sk-toggleable__label sk-toggleable__label-arrow\">SVC</label><div class=\"sk-toggleable__content\"><pre>SVC(C=5, kernel=&#x27;linear&#x27;)</pre></div></div></div></div></div>"
            ]
          },
          "metadata": {},
          "execution_count": 107
        }
      ]
    },
    {
      "cell_type": "markdown",
      "source": [
        "## Prediksi"
      ],
      "metadata": {
        "id": "by2j8UfaxNF2"
      }
    },
    {
      "cell_type": "code",
      "source": [
        "# Melakukan prediksi pada data pengujian yang telah ditransformasi\n",
        "y_pred = linear.predict(X_test_transformed)"
      ],
      "metadata": {
        "id": "CQGLWi3fjkT4"
      },
      "execution_count": 108,
      "outputs": []
    },
    {
      "cell_type": "markdown",
      "source": [
        "## Evaluasi"
      ],
      "metadata": {
        "id": "Q4A-QiH5xQnz"
      }
    },
    {
      "cell_type": "code",
      "source": [
        "from sklearn.metrics import accuracy_score, classification_report, confusion_matrix"
      ],
      "metadata": {
        "id": "UL3gFpVejBeY"
      },
      "execution_count": 109,
      "outputs": []
    },
    {
      "cell_type": "code",
      "source": [
        "# Evaluasi performa model\n",
        "def evaluate_model(y_true, y_pred, label):\n",
        "    acc = accuracy_score(y_true, y_pred)\n",
        "    print(f\"{label} Accuracy: {acc} = {acc * 100:.2f}%\")\n",
        "    print(f\"{label} Classification Report:\\n{classification_report(y_true, y_pred)}\")\n",
        "    print(f\"{label} Confusion Matrix:\\n{confusion_matrix(y_true, y_pred)}\")\n"
      ],
      "metadata": {
        "id": "iiTZj99mXZQM"
      },
      "execution_count": 110,
      "outputs": []
    },
    {
      "cell_type": "code",
      "source": [
        "evaluate_model(y_test,y_pred,\"SVM | scaled | linear | 7:3\")"
      ],
      "metadata": {
        "colab": {
          "base_uri": "https://localhost:8080/"
        },
        "id": "kKnly7ScYTlF",
        "outputId": "8215556e-0b0b-449f-a717-601bafba50a1"
      },
      "execution_count": 111,
      "outputs": [
        {
          "output_type": "stream",
          "name": "stdout",
          "text": [
            "SVM | scaled | linear | 7:3 Accuracy: 0.8381904761904762 = 83.82%\n",
            "SVM | scaled | linear | 7:3 Classification Report:\n",
            "              precision    recall  f1-score   support\n",
            "\n",
            "           0       0.88      0.91      0.89      2012\n",
            "           1       0.93      0.97      0.95      2431\n",
            "           2       0.84      0.84      0.84      2084\n",
            "           3       0.82      0.81      0.81      2107\n",
            "           4       0.79      0.79      0.79      2060\n",
            "           5       0.78      0.75      0.77      1945\n",
            "           6       0.89      0.92      0.91      2017\n",
            "           7       0.87      0.88      0.87      2131\n",
            "           8       0.84      0.76      0.80      2116\n",
            "           9       0.73      0.73      0.73      2097\n",
            "\n",
            "    accuracy                           0.84     21000\n",
            "   macro avg       0.84      0.84      0.84     21000\n",
            "weighted avg       0.84      0.84      0.84     21000\n",
            "\n",
            "SVM | scaled | linear | 7:3 Confusion Matrix:\n",
            "[[1824    4   18   16    8   83   34    2   20    3]\n",
            " [   0 2352   13   15    3   15   15    3   13    2]\n",
            " [  35   13 1748   68   47    3   97   19   51    3]\n",
            " [  24   23   67 1701   13  131    3   29   77   39]\n",
            " [   6   22   29    3 1635   12   33   29   17  274]\n",
            " [  94   11   37  151   58 1466   32    4   62   30]\n",
            " [  33   20   45    0   13   32 1863    1   10    0]\n",
            " [   7    6   27    5   31   10    0 1876   27  142]\n",
            " [  36   66   75   85   27  114   10   15 1606   82]\n",
            " [  16   16   14   38  241   16    1  188   36 1531]]\n"
          ]
        }
      ]
    },
    {
      "cell_type": "markdown",
      "source": [
        "## Visualisasi"
      ],
      "metadata": {
        "id": "hif_KkgVxcPN"
      }
    },
    {
      "cell_type": "code",
      "source": [
        "# Memilih beberapa sampel dari data pengujian untuk ditampilkan\n",
        "n_samples_to_display = 12\n",
        "\n",
        "# Mengambil sampel data pengujian dan hasil prediksinya\n",
        "X_samples = X_test_transformed[:n_samples_to_display]\n",
        "x_restored = pca.inverse_transform(X_test_transformed)\n",
        "y_true_samples = y_test[:n_samples_to_display]\n",
        "y_pred_samples = y_pred[:n_samples_to_display]"
      ],
      "metadata": {
        "id": "eIhxopqCrhDG"
      },
      "execution_count": 112,
      "outputs": []
    },
    {
      "cell_type": "code",
      "source": [
        "# Menampilkan citra berserta hasil prediksi\n",
        "plt.figure(figsize=(12, 6))\n",
        "for i in range(n_samples_to_display):\n",
        "    plt.subplot(2, 6, i + 1)\n",
        "    plt.imshow(x_restored[i].reshape(28, 28), cmap='gray')\n",
        "    plt.title(f'True: {y_true_samples.values[i]}\\nPred: {y_pred_samples[i]}', fontsize=10)\n",
        "    plt.axis('off')\n",
        "\n",
        "plt.tight_layout()\n",
        "plt.show()"
      ],
      "metadata": {
        "colab": {
          "base_uri": "https://localhost:8080/",
          "height": 526
        },
        "id": "JluK5knqr6g1",
        "outputId": "efca1550-eb92-4dac-f7cd-07cb3487b878"
      },
      "execution_count": 113,
      "outputs": [
        {
          "output_type": "display_data",
          "data": {
            "text/plain": [
              "<Figure size 1200x600 with 12 Axes>"
            ],
            "image/png": "[encoded data removed]"
          },
          "metadata": {}
        }
      ]
    },
    {
      "cell_type": "code",
      "source": [],
      "metadata": {
        "id": "UaxGLmn6zX0u"
      },
      "execution_count": 113,
      "outputs": []
    },
    {
      "cell_type": "markdown",
      "source": [
        "# Pembagian 80:20"
      ],
      "metadata": {
        "id": "0M_Zp9Y-1fM3"
      }
    },
    {
      "cell_type": "code",
      "source": [
        "# Bagi data menjadi 80% data pelatihan dan 20% data pengujian\n",
        "\n",
        "X_train, X_test, y_train, y_test = train_test_split(X, y, test_size=0.2)"
      ],
      "metadata": {
        "id": "tvU4wACX1hR-"
      },
      "execution_count": 114,
      "outputs": []
    },
    {
      "cell_type": "code",
      "source": [
        "# Membuat objek PCA\n",
        "pca = PCA(n_components=10)\n",
        "\n",
        "# Fit the PCA object to the training data\n",
        "pca.fit(X_train)\n",
        "\n",
        "# Melakukan transformasi PCA pada data pelatihan dan pengujian\n",
        "X_train_transformed = pca.transform(X_train)\n",
        "X_test_transformed = pca.transform(X_test)"
      ],
      "metadata": {
        "id": "norLC_ur1hwd"
      },
      "execution_count": 115,
      "outputs": []
    },
    {
      "cell_type": "code",
      "source": [
        "# Membuat model SVM dengan kernel linear\n",
        "linear = SVC(kernel='linear', C=5)"
      ],
      "metadata": {
        "id": "NIvZlqnI16g9"
      },
      "execution_count": 116,
      "outputs": []
    },
    {
      "cell_type": "code",
      "source": [
        "# Melatih model SVM pada data pelatihan yang telah ditransformasi\n",
        "linear.fit(X_train_transformed, y_train)"
      ],
      "metadata": {
        "colab": {
          "base_uri": "https://localhost:8080/",
          "height": 74
        },
        "id": "XxEgLnLx182j",
        "outputId": "312d78ba-b411-4c21-9b06-07968013e4de"
      },
      "execution_count": 117,
      "outputs": [
        {
          "data": {
            "text/html": [
              "<style>#sk-container-id-6 {color: black;background-color: white;}#sk-container-id-6 pre{padding: 0;}#sk-container-id-6 div.sk-toggleable {background-color: white;}#sk-container-id-6 label.sk-toggleable__label {cursor: pointer;display: block;width: 100%;margin-bottom: 0;padding: 0.3em;box-sizing: border-box;text-align: center;}#sk-container-id-6 label.sk-toggleable__label-arrow:before {content: \"▸\";float: left;margin-right: 0.25em;color: #696969;}#sk-container-id-6 label.sk-toggleable__label-arrow:hover:before {color: black;}#sk-container-id-6 div.sk-estimator:hover label.sk-toggleable__label-arrow:before {color: black;}#sk-container-id-6 div.sk-toggleable__content {max-height: 0;max-width: 0;overflow: hidden;text-align: left;background-color: #f0f8ff;}#sk-container-id-6 div.sk-toggleable__content pre {margin: 0.2em;color: black;border-radius: 0.25em;background-color: #f0f8ff;}#sk-container-id-6 input.sk-toggleable__control:checked~div.sk-toggleable__content {max-height: 200px;max-width: 100%;overflow: auto;}#sk-container-id-6 input.sk-toggleable__control:checked~label.sk-toggleable__label-arrow:before {content: \"▾\";}#sk-container-id-6 div.sk-estimator input.sk-toggleable__control:checked~label.sk-toggleable__label {background-color: #d4ebff;}#sk-container-id-6 div.sk-label input.sk-toggleable__control:checked~label.sk-toggleable__label {background-color: #d4ebff;}#sk-container-id-6 input.sk-hidden--visually {border: 0;clip: rect(1px 1px 1px 1px);clip: rect(1px, 1px, 1px, 1px);height: 1px;margin: -1px;overflow: hidden;padding: 0;position: absolute;width: 1px;}#sk-container-id-6 div.sk-estimator {font-family: monospace;background-color: #f0f8ff;border: 1px dotted black;border-radius: 0.25em;box-sizing: border-box;margin-bottom: 0.5em;}#sk-container-id-6 div.sk-estimator:hover {background-color: #d4ebff;}#sk-container-id-6 div.sk-parallel-item::after {content: \"\";width: 100%;border-bottom: 1px solid gray;flex-grow: 1;}#sk-container-id-6 div.sk-label:hover label.sk-toggleable__label {background-color: #d4ebff;}#sk-container-id-6 div.sk-serial::before {content: \"\";position: absolute;border-left: 1px solid gray;box-sizing: border-box;top: 0;bottom: 0;left: 50%;z-index: 0;}#sk-container-id-6 div.sk-serial {display: flex;flex-direction: column;align-items: center;background-color: white;padding-right: 0.2em;padding-left: 0.2em;position: relative;}#sk-container-id-6 div.sk-item {position: relative;z-index: 1;}#sk-container-id-6 div.sk-parallel {display: flex;align-items: stretch;justify-content: center;background-color: white;position: relative;}#sk-container-id-6 div.sk-item::before, #sk-container-id-6 div.sk-parallel-item::before {content: \"\";position: absolute;border-left: 1px solid gray;box-sizing: border-box;top: 0;bottom: 0;left: 50%;z-index: -1;}#sk-container-id-6 div.sk-parallel-item {display: flex;flex-direction: column;z-index: 1;position: relative;background-color: white;}#sk-container-id-6 div.sk-parallel-item:first-child::after {align-self: flex-end;width: 50%;}#sk-container-id-6 div.sk-parallel-item:last-child::after {align-self: flex-start;width: 50%;}#sk-container-id-6 div.sk-parallel-item:only-child::after {width: 0;}#sk-container-id-6 div.sk-dashed-wrapped {border: 1px dashed gray;margin: 0 0.4em 0.5em 0.4em;box-sizing: border-box;padding-bottom: 0.4em;background-color: white;}#sk-container-id-6 div.sk-label label {font-family: monospace;font-weight: bold;display: inline-block;line-height: 1.2em;}#sk-container-id-6 div.sk-label-container {text-align: center;}#sk-container-id-6 div.sk-container {/* jupyter's `normalize.less` sets `[hidden] { display: none; }` but bootstrap.min.css set `[hidden] { display: none !important; }` so we also need the `!important` here to be able to override the default hidden behavior on the sphinx rendered scikit-learn.org. See: https://github.com/scikit-learn/scikit-learn/issues/21755 */display: inline-block !important;position: relative;}#sk-container-id-6 div.sk-text-repr-fallback {display: none;}</style><div id=\"sk-container-id-6\" class=\"sk-top-container\"><div class=\"sk-text-repr-fallback\"><pre>SVC(C=5, kernel=&#x27;linear&#x27;)</pre><b>In a Jupyter environment, please rerun this cell to show the HTML representation or trust the notebook. <br />On GitHub, the HTML representation is unable to render, please try loading this page with nbviewer.org.</b></div><div class=\"sk-container\" hidden><div class=\"sk-item\"><div class=\"sk-estimator sk-toggleable\"><input class=\"sk-toggleable__control sk-hidden--visually\" id=\"sk-estimator-id-6\" type=\"checkbox\" checked><label for=\"sk-estimator-id-6\" class=\"sk-toggleable__label sk-toggleable__label-arrow\">SVC</label><div class=\"sk-toggleable__content\"><pre>SVC(C=5, kernel=&#x27;linear&#x27;)</pre></div></div></div></div></div>"
            ],
            "text/plain": [
              "SVC(C=5, kernel='linear')"
            ]
          },
          "execution_count": 117,
          "metadata": {},
          "output_type": "execute_result"
        }
      ]
    },
    {
      "cell_type": "code",
      "source": [
        "# Melakukan prediksi pada data pengujian yang telah ditransformasi\n",
        "y_pred = linear.predict(X_test_transformed)"
      ],
      "metadata": {
        "id": "CJAAxXPf2Ab0"
      },
      "execution_count": 118,
      "outputs": []
    },
    {
      "cell_type": "code",
      "source": [
        "evaluate_model(y_test,y_pred,\"SVM | scaled | linear | 8:2\")"
      ],
      "metadata": {
        "colab": {
          "base_uri": "https://localhost:8080/"
        },
        "id": "4Y4tdM_W2Jbu",
        "outputId": "2c9efeff-23ab-452c-b0e5-784675c24842"
      },
      "execution_count": 119,
      "outputs": [
        {
          "metadata": {
            "tags": null
          },
          "name": "stdout",
          "output_type": "stream",
          "text": [
            "SVM | scaled | linear | 8:2 Accuracy: 0.8455 = 84.55%\n",
            "SVM | scaled | linear | 8:2 Classification Report:\n",
            "              precision    recall  f1-score   support\n",
            "\n",
            "           0       0.88      0.91      0.89      1371\n",
            "           1       0.91      0.97      0.94      1584\n",
            "           2       0.87      0.86      0.86      1374\n",
            "           3       0.83      0.83      0.83      1450\n",
            "           4       0.80      0.80      0.80      1336\n",
            "           5       0.79      0.78      0.78      1270\n",
            "           6       0.91      0.91      0.91      1366\n",
            "           7       0.89      0.86      0.87      1536\n",
            "           8       0.83      0.77      0.80      1370\n",
            "           9       0.72      0.76      0.74      1343\n",
            "\n",
            "    accuracy                           0.85     14000\n",
            "   macro avg       0.84      0.84      0.84     14000\n",
            "weighted avg       0.85      0.85      0.85     14000\n",
            "\n",
            "SVM | scaled | linear | 8:2 Confusion Matrix:\n",
            "[[1242    2   12   12    3   67   19    0   13    1]\n",
            " [   0 1533    7   14    0    5    5    5   12    3]\n",
            " [  24    8 1176   31   24    4   47   17   37    6]\n",
            " [  22   22   50 1199    9   53    4   14   55   22]\n",
            " [   5    9   14    2 1073    9   25   18    8  173]\n",
            " [  45   10   14  105   31  986   16    3   36   24]\n",
            " [  27   24   28    0   12   30 1241    0    4    0]\n",
            " [   9    7   15    6   23   12    0 1317   23  124]\n",
            " [  24   50   37   59   16   76    4    7 1050   47]\n",
            " [  10   14    5   16  146    6    1   99   26 1020]]\n"
          ]
        }
      ]
    },
    {
      "cell_type": "code",
      "source": [
        "# Memilih beberapa sampel dari data pengujian untuk ditampilkan\n",
        "n_samples_to_display = 12\n",
        "\n",
        "# Mengambil sampel data pengujian dan hasil prediksinya\n",
        "X_samples = X_test_transformed[:n_samples_to_display]\n",
        "x_restored = pca.inverse_transform(X_test_transformed)\n",
        "y_true_samples = y_test[:n_samples_to_display]\n",
        "y_pred_samples = y_pred[:n_samples_to_display]"
      ],
      "metadata": {
        "id": "WisGn3Zw2S_G"
      },
      "execution_count": 120,
      "outputs": []
    },
    {
      "cell_type": "code",
      "source": [
        "# Menampilkan citra berserta hasil prediksi\n",
        "plt.figure(figsize=(12, 6))\n",
        "for i in range(n_samples_to_display):\n",
        "    plt.subplot(2, 6, i + 1)\n",
        "    plt.imshow(x_restored[i].reshape(28, 28), cmap='gray')\n",
        "    plt.title(f'True: {y_true_samples.values[i]}\\nPred: {y_pred_samples[i]}', fontsize=10)\n",
        "    plt.axis('off')\n",
        "\n",
        "plt.tight_layout()\n",
        "plt.show()"
      ],
      "metadata": {
        "colab": {
          "base_uri": "https://localhost:8080/",
          "height": 526
        },
        "id": "zUwf-OVS2Uli",
        "outputId": "6950a0fb-a2bf-469a-cc54-90c677bedbd6"
      },
      "execution_count": 121,
      "outputs": [
        {
          "output_type": "display_data",
          "data": {
            "text/plain": [
              "<Figure size 1200x600 with 12 Axes>"
            ],
            "image/png": "[encoded data removed]"
          },
          "metadata": {}
        }
      ]
    },
    {
      "cell_type": "markdown",
      "source": [
        "# Pembagian 90:10"
      ],
      "metadata": {
        "id": "w9gMGNJi2W_u"
      }
    },
    {
      "cell_type": "code",
      "source": [
        "# Bagi data menjadi 80% data pelatihan dan 20% data pengujian\n",
        "\n",
        "X_train, X_test, y_train, y_test = train_test_split(X, y, test_size=0.1)"
      ],
      "metadata": {
        "id": "XVo9UG-y2ac8"
      },
      "execution_count": 122,
      "outputs": []
    },
    {
      "cell_type": "code",
      "source": [
        "# Membuat objek PCA\n",
        "pca = PCA(n_components=10)\n",
        "\n",
        "# Fit the PCA object to the training data\n",
        "pca.fit(X_train)\n",
        "\n",
        "# Melakukan transformasi PCA pada data pelatihan dan pengujian\n",
        "X_train_transformed = pca.transform(X_train)\n",
        "X_test_transformed = pca.transform(X_test)"
      ],
      "metadata": {
        "id": "hdHkeRP92fIp"
      },
      "execution_count": 123,
      "outputs": []
    },
    {
      "cell_type": "code",
      "source": [
        "# Membuat model SVM dengan kernel linear\n",
        "linear = SVC(kernel='linear', C=5)"
      ],
      "metadata": {
        "id": "tgOpmx_S2hCk"
      },
      "execution_count": 124,
      "outputs": []
    },
    {
      "cell_type": "code",
      "source": [
        "# Melatih model SVM pada data pelatihan yang telah ditransformasi\n",
        "linear.fit(X_train_transformed, y_train)"
      ],
      "metadata": {
        "colab": {
          "base_uri": "https://localhost:8080/",
          "height": 74
        },
        "id": "CqN65ice2iqT",
        "outputId": "14c768ae-d2c2-4c10-d989-e4fe0c68f70a"
      },
      "execution_count": 125,
      "outputs": [
        {
          "output_type": "execute_result",
          "data": {
            "text/plain": [
              "SVC(C=5, kernel='linear')"
            ],
            "text/html": [
              "<style>#sk-container-id-7 {color: black;background-color: white;}#sk-container-id-7 pre{padding: 0;}#sk-container-id-7 div.sk-toggleable {background-color: white;}#sk-container-id-7 label.sk-toggleable__label {cursor: pointer;display: block;width: 100%;margin-bottom: 0;padding: 0.3em;box-sizing: border-box;text-align: center;}#sk-container-id-7 label.sk-toggleable__label-arrow:before {content: \"▸\";float: left;margin-right: 0.25em;color: #696969;}#sk-container-id-7 label.sk-toggleable__label-arrow:hover:before {color: black;}#sk-container-id-7 div.sk-estimator:hover label.sk-toggleable__label-arrow:before {color: black;}#sk-container-id-7 div.sk-toggleable__content {max-height: 0;max-width: 0;overflow: hidden;text-align: left;background-color: #f0f8ff;}#sk-container-id-7 div.sk-toggleable__content pre {margin: 0.2em;color: black;border-radius: 0.25em;background-color: #f0f8ff;}#sk-container-id-7 input.sk-toggleable__control:checked~div.sk-toggleable__content {max-height: 200px;max-width: 100%;overflow: auto;}#sk-container-id-7 input.sk-toggleable__control:checked~label.sk-toggleable__label-arrow:before {content: \"▾\";}#sk-container-id-7 div.sk-estimator input.sk-toggleable__control:checked~label.sk-toggleable__label {background-color: #d4ebff;}#sk-container-id-7 div.sk-label input.sk-toggleable__control:checked~label.sk-toggleable__label {background-color: #d4ebff;}#sk-container-id-7 input.sk-hidden--visually {border: 0;clip: rect(1px 1px 1px 1px);clip: rect(1px, 1px, 1px, 1px);height: 1px;margin: -1px;overflow: hidden;padding: 0;position: absolute;width: 1px;}#sk-container-id-7 div.sk-estimator {font-family: monospace;background-color: #f0f8ff;border: 1px dotted black;border-radius: 0.25em;box-sizing: border-box;margin-bottom: 0.5em;}#sk-container-id-7 div.sk-estimator:hover {background-color: #d4ebff;}#sk-container-id-7 div.sk-parallel-item::after {content: \"\";width: 100%;border-bottom: 1px solid gray;flex-grow: 1;}#sk-container-id-7 div.sk-label:hover label.sk-toggleable__label {background-color: #d4ebff;}#sk-container-id-7 div.sk-serial::before {content: \"\";position: absolute;border-left: 1px solid gray;box-sizing: border-box;top: 0;bottom: 0;left: 50%;z-index: 0;}#sk-container-id-7 div.sk-serial {display: flex;flex-direction: column;align-items: center;background-color: white;padding-right: 0.2em;padding-left: 0.2em;position: relative;}#sk-container-id-7 div.sk-item {position: relative;z-index: 1;}#sk-container-id-7 div.sk-parallel {display: flex;align-items: stretch;justify-content: center;background-color: white;position: relative;}#sk-container-id-7 div.sk-item::before, #sk-container-id-7 div.sk-parallel-item::before {content: \"\";position: absolute;border-left: 1px solid gray;box-sizing: border-box;top: 0;bottom: 0;left: 50%;z-index: -1;}#sk-container-id-7 div.sk-parallel-item {display: flex;flex-direction: column;z-index: 1;position: relative;background-color: white;}#sk-container-id-7 div.sk-parallel-item:first-child::after {align-self: flex-end;width: 50%;}#sk-container-id-7 div.sk-parallel-item:last-child::after {align-self: flex-start;width: 50%;}#sk-container-id-7 div.sk-parallel-item:only-child::after {width: 0;}#sk-container-id-7 div.sk-dashed-wrapped {border: 1px dashed gray;margin: 0 0.4em 0.5em 0.4em;box-sizing: border-box;padding-bottom: 0.4em;background-color: white;}#sk-container-id-7 div.sk-label label {font-family: monospace;font-weight: bold;display: inline-block;line-height: 1.2em;}#sk-container-id-7 div.sk-label-container {text-align: center;}#sk-container-id-7 div.sk-container {/* jupyter's `normalize.less` sets `[hidden] { display: none; }` but bootstrap.min.css set `[hidden] { display: none !important; }` so we also need the `!important` here to be able to override the default hidden behavior on the sphinx rendered scikit-learn.org. See: https://github.com/scikit-learn/scikit-learn/issues/21755 */display: inline-block !important;position: relative;}#sk-container-id-7 div.sk-text-repr-fallback {display: none;}</style><div id=\"sk-container-id-7\" class=\"sk-top-container\"><div class=\"sk-text-repr-fallback\"><pre>SVC(C=5, kernel=&#x27;linear&#x27;)</pre><b>In a Jupyter environment, please rerun this cell to show the HTML representation or trust the notebook. <br />On GitHub, the HTML representation is unable to render, please try loading this page with nbviewer.org.</b></div><div class=\"sk-container\" hidden><div class=\"sk-item\"><div class=\"sk-estimator sk-toggleable\"><input class=\"sk-toggleable__control sk-hidden--visually\" id=\"sk-estimator-id-7\" type=\"checkbox\" checked><label for=\"sk-estimator-id-7\" class=\"sk-toggleable__label sk-toggleable__label-arrow\">SVC</label><div class=\"sk-toggleable__content\"><pre>SVC(C=5, kernel=&#x27;linear&#x27;)</pre></div></div></div></div></div>"
            ]
          },
          "metadata": {},
          "execution_count": 125
        }
      ]
    },
    {
      "cell_type": "code",
      "source": [
        "# Melakukan prediksi pada data pengujian yang telah ditransformasi\n",
        "y_pred = linear.predict(X_test_transformed)"
      ],
      "metadata": {
        "id": "Q0dSXg9k7qH9"
      },
      "execution_count": 130,
      "outputs": []
    },
    {
      "cell_type": "code",
      "source": [
        "evaluate_model(y_test,y_pred,\"SVM | scaled | linear | 9:1\")"
      ],
      "metadata": {
        "colab": {
          "base_uri": "https://localhost:8080/"
        },
        "id": "j9zNVFC97p-W",
        "outputId": "facffaa7-0a7d-4c39-94b9-0e8407b05ccd"
      },
      "execution_count": 131,
      "outputs": [
        {
          "output_type": "stream",
          "name": "stdout",
          "text": [
            "SVM | scaled | linear | 9:1 Accuracy: 0.8377142857142857 = 83.77%\n",
            "SVM | scaled | linear | 9:1 Classification Report:\n",
            "              precision    recall  f1-score   support\n",
            "\n",
            "           0       0.88      0.88      0.88       705\n",
            "           1       0.93      0.96      0.94       776\n",
            "           2       0.83      0.87      0.85       694\n",
            "           3       0.81      0.82      0.82       718\n",
            "           4       0.78      0.81      0.79       694\n",
            "           5       0.76      0.76      0.76       639\n",
            "           6       0.91      0.91      0.91       696\n",
            "           7       0.87      0.87      0.87       693\n",
            "           8       0.84      0.76      0.80       692\n",
            "           9       0.74      0.72      0.73       693\n",
            "\n",
            "    accuracy                           0.84      7000\n",
            "   macro avg       0.84      0.84      0.84      7000\n",
            "weighted avg       0.84      0.84      0.84      7000\n",
            "\n",
            "SVM | scaled | linear | 9:1 Confusion Matrix:\n",
            "[[622   1   9  13   4  41   6   1   5   3]\n",
            " [  0 747  10   7   1   2   2   2   4   1]\n",
            " [  7   2 601  16  18   2  26   9  12   1]\n",
            " [ 10   7  30 589   2  41   1   7  25   6]\n",
            " [  3   5   4   2 559   4  11  12   7  87]\n",
            " [ 25   2  13  45  19 486  15   3  20  11]\n",
            " [ 13  13  17   0   5  13 632   0   3   0]\n",
            " [  4   3  11   4  13   0   0 603  10  45]\n",
            " [ 13  21  21  37  12  39   1   4 524  20]\n",
            " [  7   6   7  13  83   9   1  54  12 501]]\n"
          ]
        }
      ]
    },
    {
      "cell_type": "code",
      "source": [
        "# Memilih beberapa sampel dari data pengujian untuk ditampilkan\n",
        "n_samples_to_display = 12\n",
        "\n",
        "# Mengambil sampel data pengujian dan hasil prediksinya\n",
        "X_samples = X_test_transformed[:n_samples_to_display]\n",
        "x_restored = pca.inverse_transform(X_test_transformed)\n",
        "y_true_samples = y_test[:n_samples_to_display]\n",
        "y_pred_samples = y_pred[:n_samples_to_display]"
      ],
      "metadata": {
        "id": "RBZ5VDT67pvP"
      },
      "execution_count": 133,
      "outputs": []
    },
    {
      "cell_type": "code",
      "source": [
        "# Menampilkan citra berserta hasil prediksi\n",
        "plt.figure(figsize=(12, 6))\n",
        "for i in range(n_samples_to_display):\n",
        "    plt.subplot(2, 6, i + 1)\n",
        "    plt.imshow(x_restored[i].reshape(28, 28), cmap='gray')\n",
        "    plt.title(f'True: {y_true_samples.values[i]}\\nPred: {y_pred_samples[i]}', fontsize=10)\n",
        "    plt.axis('off')\n",
        "\n",
        "plt.tight_layout()\n",
        "plt.show()"
      ],
      "metadata": {
        "colab": {
          "base_uri": "https://localhost:8080/",
          "height": 526
        },
        "id": "_aPJWp7c2x84",
        "outputId": "e9755ede-49b3-45ad-ef80-ef98716d6c77"
      },
      "execution_count": 134,
      "outputs": [
        {
          "output_type": "display_data",
          "data": {
            "text/plain": [
              "<Figure size 1200x600 with 12 Axes>"
            ],
            "image/png": "[encoded data removed]"
          },
          "metadata": {}
        }
      ]
    },
    {
      "cell_type": "code",
      "source": [],
      "metadata": {
        "id": "Gbjj8-tJ8Biv"
      },
      "execution_count": null,
      "outputs": []
    }
  ]
}
